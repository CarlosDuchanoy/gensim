{
 "cells": [
  {
   "cell_type": "code",
   "execution_count": 1,
   "metadata": {},
   "outputs": [
    {
     "name": "stdout",
     "output_type": "stream",
     "text": [
      "/home/jayant/Projects/gensim\n"
     ]
    }
   ],
   "source": [
    "% cd ../.."
   ]
  },
  {
   "cell_type": "code",
   "execution_count": 2,
   "metadata": {},
   "outputs": [],
   "source": [
    "import logging\n",
    "import time\n",
    "\n",
    "from collections import defaultdict, Counter\n",
    "\n",
    "from gensim.models.word2vec import Text8Corpus\n",
    "from gensim.models import counters\n",
    "from gensim.models import fast_counter"
   ]
  },
  {
   "cell_type": "code",
   "execution_count": 3,
   "metadata": {},
   "outputs": [
    {
     "name": "stdout",
     "output_type": "stream",
     "text": [
      "-rw-rw-r-- 1 jayant jayant 71M Jun 26 07:32 /home/jayant/Projects/notebooks/text8\r\n"
     ]
    }
   ],
   "source": [
    "corpus_file = '/home/jayant/Projects/notebooks/text8'\n",
    "\n",
    "! ls -hl $corpus_file"
   ]
  },
  {
   "cell_type": "code",
   "execution_count": 4,
   "metadata": {
    "collapsed": true
   },
   "outputs": [],
   "source": [
    "logging.basicConfig(format='%(asctime)s : %(threadName)s : %(levelname)s : %(message)s', level=logging.INFO)"
   ]
  },
  {
   "cell_type": "code",
   "execution_count": 5,
   "metadata": {
    "collapsed": true
   },
   "outputs": [],
   "source": [
    "def run_dict(sents):\n",
    "    counter = {}\n",
    "    for sent in sents:\n",
    "        for word in sent:\n",
    "            if word in counter:\n",
    "                counter[word] += 1\n",
    "            else:\n",
    "                counter[word] = 1\n",
    "    return counter\n",
    "\n",
    "def run_dict_try(sents):\n",
    "    counter = {}\n",
    "    for sent in sents:\n",
    "        for word in sent:\n",
    "            try:\n",
    "                counter[word] += 1\n",
    "            except KeyError:\n",
    "                counter[word] = 1\n",
    "    return counter\n",
    "\n",
    "def run_defaultdict(sents):\n",
    "    counter = defaultdict(int)\n",
    "    for sent in sents:\n",
    "        for word in sent:\n",
    "            counter[word] += 1\n",
    "    return counter\n",
    "\n",
    "def run_counter_collections(sents):\n",
    "    counter = Counter()\n",
    "    for sent in sents:\n",
    "        counter.update(sent)\n",
    "    return counter\n",
    "\n",
    "def run_counter_cython(sents):\n",
    "    counter = counters.CounterCython()\n",
    "    counter.update_sents(sents)\n",
    "    return counter\n",
    "\n",
    "def run_counter_cython_defaultdict(sents):\n",
    "    counter = counters.CounterCythonDefaultDict()\n",
    "    counter.update_sents(sents)\n",
    "    return counter\n",
    "\n",
    "def run_counter_cython_unordered_map(sents):\n",
    "    counter = counters.CounterCythonUnorderedMap()\n",
    "    counter.update_sents(sents)\n",
    "    return counter\n",
    "\n",
    "def run_fastcounter(sents):\n",
    "    def doc2items(doc):\n",
    "        for item in doc:\n",
    "            yield item\n",
    "    counter = fast_counter.FastCounter(doc2items=doc2items)\n",
    "    counter.update(sents)\n",
    "    return counter\n",
    "\n",
    "def run_fastcounter_cython(sents):\n",
    "    counter = fast_counter.FastCounterCython()\n",
    "    counter.update(sents)\n",
    "    return counter\n",
    "\n",
    "def run_fastcounter_preshed(sents):\n",
    "    counter = fast_counter.FastCounterPreshed()\n",
    "    counter.update(sents)\n",
    "    return counter"
   ]
  },
  {
   "cell_type": "code",
   "execution_count": 6,
   "metadata": {
    "collapsed": true
   },
   "outputs": [],
   "source": [
    "def benchmark_count_method(count_method, sents):\n",
    "    print('Benchmarking %s' % count_method)\n",
    "    start = time.time()\n",
    "    counts = count_method(sents)\n",
    "    time_taken = time.time() - start\n",
    "    assert counts.get('word') == 4336, 'expected count for \"word\": %s, actual: %s' % (4336, counts.get('word'))  \n",
    "    print('Time taken: %.2fs' % time_taken)"
   ]
  },
  {
   "cell_type": "code",
   "execution_count": 7,
   "metadata": {},
   "outputs": [
    {
     "name": "stdout",
     "output_type": "stream",
     "text": [
      "Benchmarking <function run_counter_cython_defaultdict at 0x7fe153e3c1b8>\n",
      "Time taken: 4.24s\n",
      "Benchmarking <function run_counter_cython_unordered_map at 0x7fe153e3c320>\n",
      "Time taken: 3.16s\n",
      "Benchmarking <function run_fastcounter at 0x7fe153e3c488>\n",
      "Time taken: 5.68s\n",
      "Benchmarking <function run_fastcounter_cython at 0x7fe153e3c500>\n",
      "Time taken: 7.56s\n",
      "Benchmarking <function run_fastcounter_preshed at 0x7fe153e3c578>\n",
      "Time taken: 2.62s\n"
     ]
    }
   ],
   "source": [
    "for method in [\n",
    "        run_dict, run_dict_try, run_defaultdict, run_counter_collections,\n",
    "        run_counter_cython, run_counter_cython_defaultdict, run_counter_cython_unordered_map,\n",
    "        run_fastcounter, run_fastcounter_cython,\n",
    "        run_fastcounter_preshed][5:]:\n",
    "    text8_sents = Text8Corpus(corpus_file)\n",
    "    benchmark_count_method(method, text8_sents)"
   ]
  }
 ],
 "metadata": {
  "kernelspec": {
   "display_name": "Python 2",
   "language": "python",
   "name": "python2"
  },
  "language_info": {
   "codemirror_mode": {
    "name": "ipython",
    "version": 2
   },
   "file_extension": ".py",
   "mimetype": "text/x-python",
   "name": "python",
   "nbconvert_exporter": "python",
   "pygments_lexer": "ipython2",
   "version": "2.7.6"
  }
 },
 "nbformat": 4,
 "nbformat_minor": 2
}
