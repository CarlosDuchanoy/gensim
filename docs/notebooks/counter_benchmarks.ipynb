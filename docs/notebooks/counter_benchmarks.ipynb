{
 "cells": [
  {
   "cell_type": "code",
   "execution_count": 1,
   "metadata": {},
   "outputs": [
    {
     "name": "stdout",
     "output_type": "stream",
     "text": [
      "/home/jayant/projects/gensim\n"
     ]
    }
   ],
   "source": [
    "% cd ../.."
   ]
  },
  {
   "cell_type": "code",
   "execution_count": 2,
   "metadata": {},
   "outputs": [],
   "source": [
    "import logging\n",
    "import time\n",
    "\n",
    "from collections import defaultdict, Counter\n",
    "\n",
    "from gensim.models.word2vec import Text8Corpus\n",
    "from gensim.models import counters\n",
    "from gensim.models import fast_counter\n",
    "from gensim.models import fast_unigram_counter"
   ]
  },
  {
   "cell_type": "code",
   "execution_count": 9,
   "metadata": {},
   "outputs": [
    {
     "name": "stdout",
     "output_type": "stream",
     "text": [
      "-rw-r--r-- 1 jayant develop 96M Jun  9  2006 /home/jayant/projects/text8\r\n"
     ]
    }
   ],
   "source": [
    "corpus_file = '/home/jayant/projects/text8'\n",
    "\n",
    "! ls -hl $corpus_file"
   ]
  },
  {
   "cell_type": "code",
   "execution_count": 10,
   "metadata": {
    "collapsed": true
   },
   "outputs": [],
   "source": [
    "logging.basicConfig(format='%(asctime)s : %(threadName)s : %(levelname)s : %(message)s', level=logging.INFO)"
   ]
  },
  {
   "cell_type": "code",
   "execution_count": 11,
   "metadata": {
    "collapsed": true
   },
   "outputs": [],
   "source": [
    "def run_dict(sents):\n",
    "    counter = {}\n",
    "    for sent in sents:\n",
    "        for word in sent:\n",
    "            if word in counter:\n",
    "                counter[word] += 1\n",
    "            else:\n",
    "                counter[word] = 1\n",
    "    return counter\n",
    "\n",
    "def run_dict_try(sents):\n",
    "    counter = {}\n",
    "    for sent in sents:\n",
    "        for word in sent:\n",
    "            try:\n",
    "                counter[word] += 1\n",
    "            except KeyError:\n",
    "                counter[word] = 1\n",
    "    return counter\n",
    "\n",
    "def run_defaultdict(sents):\n",
    "    counter = defaultdict(int)\n",
    "    for sent in sents:\n",
    "        for word in sent:\n",
    "            counter[word] += 1\n",
    "    return counter\n",
    "\n",
    "def run_counter_collections(sents):\n",
    "    counter = Counter()\n",
    "    for sent in sents:\n",
    "        counter.update(sent)\n",
    "    return counter\n",
    "\n",
    "def run_counter_cython(sents):\n",
    "    counter = counters.CounterCython()\n",
    "    counter.update_sents(sents)\n",
    "    return counter\n",
    "\n",
    "def run_counter_cython_defaultdict(sents):\n",
    "    counter = counters.CounterCythonDefaultDict()\n",
    "    counter.update_sents(sents)\n",
    "    return counter\n",
    "\n",
    "def run_counter_cython_unordered_map(sents):\n",
    "    counter = counters.CounterCythonUnorderedMap()\n",
    "    counter.update_sents(sents)\n",
    "    return counter\n",
    "\n",
    "def run_fastcounter_cython(sents):\n",
    "    counter = fast_unigram_counter.FastCounterCython()\n",
    "    counter.update(sents)\n",
    "    return counter\n",
    "\n",
    "def run_fastcounter_preshed(sents):\n",
    "    counter = fast_unigram_counter.FastCounterPreshed()\n",
    "    counter.update(sents)\n",
    "    return counter"
   ]
  },
  {
   "cell_type": "code",
   "execution_count": 18,
   "metadata": {
    "collapsed": true
   },
   "outputs": [],
   "source": [
    "def benchmark_count_method(count_method, sents, test_word, test_count):\n",
    "    print('Benchmarking %s' % count_method)\n",
    "    start = time.time()\n",
    "    counts = count_method(sents)\n",
    "    time_taken = time.time() - start\n",
    "    assert counts.get(test_word) == test_count, \\\n",
    "        'expected count for \"%s\": %s, actual: %s' % (test_word, test_count, counts.get(test_word))  \n",
    "    print('Time taken: %.2fs' % time_taken)"
   ]
  },
  {
   "cell_type": "code",
   "execution_count": 19,
   "metadata": {},
   "outputs": [
    {
     "name": "stdout",
     "output_type": "stream",
     "text": [
      "Benchmarking <function run_dict at 0x7f6c0b6eb0c8>\n",
      "Time taken: 3.78s\n",
      "Benchmarking <function run_dict_try at 0x7f6c0ccaab90>\n",
      "Time taken: 3.50s\n",
      "Benchmarking <function run_defaultdict at 0x7f6c0ccaa758>\n",
      "Time taken: 3.32s\n",
      "Benchmarking <function run_counter_collections at 0x7f6c0ccaa668>\n",
      "Time taken: 5.26s\n",
      "Benchmarking <function run_counter_cython at 0x7f6c0ccaa938>\n",
      "Time taken: 3.10s\n",
      "Benchmarking <function run_counter_cython_defaultdict at 0x7f6c0ccaaa28>\n",
      "Time taken: 3.08s\n",
      "Benchmarking <function run_counter_cython_unordered_map at 0x7f6c0ccaa6e0>\n",
      "Time taken: 2.51s\n",
      "Benchmarking <function run_fastcounter_cython at 0x7f6c0ccaaaa0>\n",
      "Time taken: 2.69s\n",
      "Benchmarking <function run_fastcounter_preshed at 0x7f6c0ccaa8c0>\n",
      "Time taken: 1.49s\n"
     ]
    }
   ],
   "source": [
    "for method in [\n",
    "        run_dict, run_dict_try, run_defaultdict, run_counter_collections,\n",
    "        run_counter_cython, run_counter_cython_defaultdict, run_counter_cython_unordered_map,\n",
    "        run_fastcounter_cython, run_fastcounter_preshed]:\n",
    "    text8_sents = Text8Corpus(corpus_file)\n",
    "    benchmark_count_method(method, text8_sents, 'word', 5678)"
   ]
  },
  {
   "cell_type": "code",
   "execution_count": 20,
   "metadata": {},
   "outputs": [
    {
     "name": "stdout",
     "output_type": "stream",
     "text": [
      "Benchmarking <function run_dict at 0x7f6c0b6eb0c8>\n",
      "Time taken: 27.67s\n",
      "Benchmarking <function run_dict_try at 0x7f6c0ccaab90>\n",
      "Time taken: 24.94s\n",
      "Benchmarking <function run_defaultdict at 0x7f6c0ccaa758>\n",
      "Time taken: 24.19s\n",
      "Benchmarking <function run_counter_collections at 0x7f6c0ccaa668>\n",
      "Time taken: 38.53s\n",
      "Benchmarking <function run_counter_cython at 0x7f6c0ccaa938>\n",
      "Time taken: 22.56s\n",
      "Benchmarking <function run_counter_cython_defaultdict at 0x7f6c0ccaaa28>\n",
      "Time taken: 22.18s\n",
      "Benchmarking <function run_counter_cython_unordered_map at 0x7f6c0ccaa6e0>\n",
      "Time taken: 18.31s\n",
      "Benchmarking <function run_fastcounter_cython at 0x7f6c0ccaaaa0>\n",
      "Time taken: 19.46s\n",
      "Benchmarking <function run_fastcounter_preshed at 0x7f6c0ccaa8c0>\n",
      "Time taken: 10.86s\n"
     ]
    }
   ],
   "source": [
    "text9_corpus_file = '/home/jayant/projects/text9'\n",
    "for method in [\n",
    "        run_dict, run_dict_try, run_defaultdict, run_counter_collections,\n",
    "        run_counter_cython, run_counter_cython_defaultdict, run_counter_cython_unordered_map,\n",
    "        run_fastcounter_cython, run_fastcounter_preshed]:\n",
    "    sents = Text8Corpus(text9_corpus_file)\n",
    "    benchmark_count_method(method, sents, 'word', 26358)"
   ]
  }
 ],
 "metadata": {
  "kernelspec": {
   "display_name": "Python 2",
   "language": "python",
   "name": "python2"
  },
  "language_info": {
   "codemirror_mode": {
    "name": "ipython",
    "version": 2
   },
   "file_extension": ".py",
   "mimetype": "text/x-python",
   "name": "python",
   "nbconvert_exporter": "python",
   "pygments_lexer": "ipython2",
   "version": "2.7.10"
  }
 },
 "nbformat": 4,
 "nbformat_minor": 2
}
